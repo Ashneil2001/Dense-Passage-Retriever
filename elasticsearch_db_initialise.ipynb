{
 "cells": [
  {
   "cell_type": "code",
   "execution_count": 1,
   "id": "5738820d",
   "metadata": {},
   "outputs": [],
   "source": [
    "import requests"
   ]
  },
  {
   "cell_type": "code",
   "execution_count": 4,
   "id": "1df8ec49",
   "metadata": {},
   "outputs": [
    {
     "data": {
      "text/plain": [
       "{'cluster_name': 'elasticsearch',\n",
       " 'status': 'green',\n",
       " 'timed_out': False,\n",
       " 'number_of_nodes': 1,\n",
       " 'number_of_data_nodes': 1,\n",
       " 'active_primary_shards': 3,\n",
       " 'active_shards': 3,\n",
       " 'relocating_shards': 0,\n",
       " 'initializing_shards': 0,\n",
       " 'unassigned_shards': 0,\n",
       " 'delayed_unassigned_shards': 0,\n",
       " 'number_of_pending_tasks': 0,\n",
       " 'number_of_in_flight_fetch': 0,\n",
       " 'task_max_waiting_in_queue_millis': 0,\n",
       " 'active_shards_percent_as_number': 100.0}"
      ]
     },
     "execution_count": 4,
     "metadata": {},
     "output_type": "execute_result"
    }
   ],
   "source": [
    "requests.get('http://localhost:9200/_cluster/health').json()"
   ]
  },
  {
   "cell_type": "code",
   "execution_count": 5,
   "id": "a611781a",
   "metadata": {},
   "outputs": [
    {
     "name": "stdout",
     "output_type": "stream",
     "text": [
      "Requirement already satisfied: farm-haystack in c:\\program files\\python311\\lib\\site-packages (1.17.1)\n",
      "Requirement already satisfied: azure-ai-formrecognizer>=3.2.0b2 in c:\\program files\\python311\\lib\\site-packages (from farm-haystack) (3.3.0b1)\n",
      "Requirement already satisfied: boilerpy3 in c:\\program files\\python311\\lib\\site-packages (from farm-haystack) (1.0.6)\n",
      "Requirement already satisfied: canals==0.2.2 in c:\\program files\\python311\\lib\\site-packages (from farm-haystack) (0.2.2)\n",
      "Requirement already satisfied: dill in c:\\program files\\python311\\lib\\site-packages (from farm-haystack) (0.3.6)\n",
      "Requirement already satisfied: events in c:\\program files\\python311\\lib\\site-packages (from farm-haystack) (0.4)\n",
      "Requirement already satisfied: generalimport==0.3.1 in c:\\program files\\python311\\lib\\site-packages (from farm-haystack) (0.3.1)\n",
      "Requirement already satisfied: huggingface-hub>=0.5.0 in c:\\program files\\python311\\lib\\site-packages (from farm-haystack) (0.15.1)\n",
      "Requirement already satisfied: jsonschema in c:\\users\\ashni\\appdata\\roaming\\python\\python311\\site-packages (from farm-haystack) (4.17.3)\n",
      "Requirement already satisfied: more-itertools in c:\\program files\\python311\\lib\\site-packages (from farm-haystack) (9.1.0)\n",
      "Requirement already satisfied: networkx in c:\\program files\\python311\\lib\\site-packages (from farm-haystack) (3.1)\n",
      "Requirement already satisfied: pandas in c:\\program files\\python311\\lib\\site-packages (from farm-haystack) (2.0.2)\n",
      "Requirement already satisfied: posthog in c:\\program files\\python311\\lib\\site-packages (from farm-haystack) (3.0.1)\n",
      "Requirement already satisfied: protobuf<=3.20.2 in c:\\program files\\python311\\lib\\site-packages (from farm-haystack) (3.20.2)\n",
      "Requirement already satisfied: pydantic in c:\\program files\\python311\\lib\\site-packages (from farm-haystack) (1.10.9)\n",
      "Requirement already satisfied: quantulum3 in c:\\program files\\python311\\lib\\site-packages (from farm-haystack) (0.9.0)\n",
      "Requirement already satisfied: rank-bm25 in c:\\program files\\python311\\lib\\site-packages (from farm-haystack) (0.2.2)\n",
      "Requirement already satisfied: requests in c:\\users\\ashni\\appdata\\roaming\\python\\python311\\site-packages (from farm-haystack) (2.31.0)\n",
      "Requirement already satisfied: requests-cache<1.0.0 in c:\\program files\\python311\\lib\\site-packages (from farm-haystack) (0.9.8)\n",
      "Requirement already satisfied: scikit-learn>=1.0.0 in c:\\program files\\python311\\lib\\site-packages (from farm-haystack) (1.2.2)\n",
      "Requirement already satisfied: sentence-transformers>=2.2.0 in c:\\program files\\python311\\lib\\site-packages (from farm-haystack) (2.2.2)\n",
      "Requirement already satisfied: sseclient-py in c:\\program files\\python311\\lib\\site-packages (from farm-haystack) (1.7.2)\n",
      "Requirement already satisfied: tenacity in c:\\program files\\python311\\lib\\site-packages (from farm-haystack) (8.2.2)\n",
      "Requirement already satisfied: tiktoken>=0.3.2 in c:\\program files\\python311\\lib\\site-packages (from farm-haystack) (0.4.0)\n",
      "Requirement already satisfied: tqdm in c:\\program files\\python311\\lib\\site-packages (from farm-haystack) (4.65.0)\n",
      "Requirement already satisfied: transformers[torch]==4.29.1 in c:\\program files\\python311\\lib\\site-packages (from farm-haystack) (4.29.1)\n",
      "Requirement already satisfied: typing-extensions==4.5.0 in c:\\program files\\python311\\lib\\site-packages (from farm-haystack) (4.5.0)\n",
      "Requirement already satisfied: filelock in c:\\program files\\python311\\lib\\site-packages (from transformers[torch]==4.29.1->farm-haystack) (3.12.1)\n",
      "Requirement already satisfied: numpy>=1.17 in c:\\program files\\python311\\lib\\site-packages (from transformers[torch]==4.29.1->farm-haystack) (1.24.3)\n",
      "Requirement already satisfied: packaging>=20.0 in c:\\users\\ashni\\appdata\\roaming\\python\\python311\\site-packages (from transformers[torch]==4.29.1->farm-haystack) (23.1)\n",
      "Requirement already satisfied: pyyaml>=5.1 in c:\\users\\ashni\\appdata\\roaming\\python\\python311\\site-packages (from transformers[torch]==4.29.1->farm-haystack) (6.0)\n",
      "Requirement already satisfied: regex!=2019.12.17 in c:\\program files\\python311\\lib\\site-packages (from transformers[torch]==4.29.1->farm-haystack) (2023.6.3)\n",
      "Requirement already satisfied: tokenizers!=0.11.3,<0.14,>=0.11.1 in c:\\program files\\python311\\lib\\site-packages (from transformers[torch]==4.29.1->farm-haystack) (0.13.3)\n",
      "Requirement already satisfied: torch!=1.12.0,>=1.9 in c:\\program files\\python311\\lib\\site-packages (from transformers[torch]==4.29.1->farm-haystack) (2.0.1)\n",
      "Requirement already satisfied: accelerate>=0.19.0 in c:\\program files\\python311\\lib\\site-packages (from transformers[torch]==4.29.1->farm-haystack) (0.20.3)\n",
      "Requirement already satisfied: azure-core<2.0.0,>=1.23.0 in c:\\program files\\python311\\lib\\site-packages (from azure-ai-formrecognizer>=3.2.0b2->farm-haystack) (1.27.0)\n",
      "Requirement already satisfied: msrest>=0.6.21 in c:\\program files\\python311\\lib\\site-packages (from azure-ai-formrecognizer>=3.2.0b2->farm-haystack) (0.7.1)\n",
      "Requirement already satisfied: azure-common~=1.1 in c:\\program files\\python311\\lib\\site-packages (from azure-ai-formrecognizer>=3.2.0b2->farm-haystack) (1.1.28)\n",
      "Requirement already satisfied: fsspec in c:\\program files\\python311\\lib\\site-packages (from huggingface-hub>=0.5.0->farm-haystack) (2023.6.0)\n",
      "Requirement already satisfied: appdirs>=1.4.4 in c:\\program files\\python311\\lib\\site-packages (from requests-cache<1.0.0->farm-haystack) (1.4.4)\n",
      "Requirement already satisfied: attrs>=21.2 in c:\\users\\ashni\\appdata\\roaming\\python\\python311\\site-packages (from requests-cache<1.0.0->farm-haystack) (23.1.0)\n",
      "Requirement already satisfied: cattrs>=22.2 in c:\\program files\\python311\\lib\\site-packages (from requests-cache<1.0.0->farm-haystack) (23.1.2)\n",
      "Requirement already satisfied: url-normalize>=1.4 in c:\\program files\\python311\\lib\\site-packages (from requests-cache<1.0.0->farm-haystack) (1.4.3)\n",
      "Requirement already satisfied: urllib3>=1.25.5 in c:\\program files\\python311\\lib\\site-packages (from requests-cache<1.0.0->farm-haystack) (1.26.16)\n",
      "Requirement already satisfied: charset-normalizer<4,>=2 in c:\\users\\ashni\\appdata\\roaming\\python\\python311\\site-packages (from requests->farm-haystack) (3.1.0)\n",
      "Requirement already satisfied: idna<4,>=2.5 in c:\\users\\ashni\\appdata\\roaming\\python\\python311\\site-packages (from requests->farm-haystack) (3.4)\n",
      "Requirement already satisfied: certifi>=2017.4.17 in c:\\users\\ashni\\appdata\\roaming\\python\\python311\\site-packages (from requests->farm-haystack) (2023.5.7)\n",
      "Requirement already satisfied: scipy>=1.3.2 in c:\\program files\\python311\\lib\\site-packages (from scikit-learn>=1.0.0->farm-haystack) (1.10.1)\n",
      "Requirement already satisfied: joblib>=1.1.1 in c:\\program files\\python311\\lib\\site-packages (from scikit-learn>=1.0.0->farm-haystack) (1.2.0)\n",
      "Requirement already satisfied: threadpoolctl>=2.0.0 in c:\\program files\\python311\\lib\\site-packages (from scikit-learn>=1.0.0->farm-haystack) (3.1.0)\n",
      "Requirement already satisfied: torchvision in c:\\program files\\python311\\lib\\site-packages (from sentence-transformers>=2.2.0->farm-haystack) (0.15.2)\n",
      "Requirement already satisfied: nltk in c:\\program files\\python311\\lib\\site-packages (from sentence-transformers>=2.2.0->farm-haystack) (3.8.1)\n",
      "Requirement already satisfied: sentencepiece in c:\\program files\\python311\\lib\\site-packages (from sentence-transformers>=2.2.0->farm-haystack) (0.1.99)\n",
      "Requirement already satisfied: colorama in c:\\users\\ashni\\appdata\\roaming\\python\\python311\\site-packages (from tqdm->farm-haystack) (0.4.6)\n",
      "Requirement already satisfied: pyrsistent!=0.17.0,!=0.17.1,!=0.17.2,>=0.14.0 in c:\\users\\ashni\\appdata\\roaming\\python\\python311\\site-packages (from jsonschema->farm-haystack) (0.19.3)\n",
      "Requirement already satisfied: python-dateutil>=2.8.2 in c:\\users\\ashni\\appdata\\roaming\\python\\python311\\site-packages (from pandas->farm-haystack) (2.8.2)\n",
      "Requirement already satisfied: pytz>=2020.1 in c:\\program files\\python311\\lib\\site-packages (from pandas->farm-haystack) (2023.3)\n",
      "Requirement already satisfied: tzdata>=2022.1 in c:\\program files\\python311\\lib\\site-packages (from pandas->farm-haystack) (2023.3)\n",
      "Requirement already satisfied: six>=1.5 in c:\\users\\ashni\\appdata\\roaming\\python\\python311\\site-packages (from posthog->farm-haystack) (1.16.0)\n",
      "Requirement already satisfied: monotonic>=1.5 in c:\\program files\\python311\\lib\\site-packages (from posthog->farm-haystack) (1.6)\n",
      "Requirement already satisfied: backoff>=1.10.0 in c:\\program files\\python311\\lib\\site-packages (from posthog->farm-haystack) (2.2.1)\n",
      "Requirement already satisfied: inflect in c:\\program files\\python311\\lib\\site-packages (from quantulum3->farm-haystack) (6.0.4)\n",
      "Requirement already satisfied: num2words in c:\\program files\\python311\\lib\\site-packages (from quantulum3->farm-haystack) (0.5.12)\n",
      "Requirement already satisfied: psutil in c:\\users\\ashni\\appdata\\roaming\\python\\python311\\site-packages (from accelerate>=0.19.0->transformers[torch]==4.29.1->farm-haystack) (5.9.5)\n",
      "Requirement already satisfied: isodate>=0.6.0 in c:\\program files\\python311\\lib\\site-packages (from msrest>=0.6.21->azure-ai-formrecognizer>=3.2.0b2->farm-haystack) (0.6.1)\n",
      "Requirement already satisfied: requests-oauthlib>=0.5.0 in c:\\program files\\python311\\lib\\site-packages (from msrest>=0.6.21->azure-ai-formrecognizer>=3.2.0b2->farm-haystack) (1.3.1)\n",
      "Requirement already satisfied: sympy in c:\\program files\\python311\\lib\\site-packages (from torch!=1.12.0,>=1.9->transformers[torch]==4.29.1->farm-haystack) (1.12)\n",
      "Requirement already satisfied: jinja2 in c:\\users\\ashni\\appdata\\roaming\\python\\python311\\site-packages (from torch!=1.12.0,>=1.9->transformers[torch]==4.29.1->farm-haystack) (3.1.2)\n",
      "Requirement already satisfied: click in c:\\program files\\python311\\lib\\site-packages (from nltk->sentence-transformers>=2.2.0->farm-haystack) (8.1.3)\n",
      "Requirement already satisfied: docopt>=0.6.2 in c:\\program files\\python311\\lib\\site-packages (from num2words->quantulum3->farm-haystack) (0.6.2)\n",
      "Requirement already satisfied: pillow!=8.3.*,>=5.3.0 in c:\\program files\\python311\\lib\\site-packages (from torchvision->sentence-transformers>=2.2.0->farm-haystack) (9.5.0)\n",
      "Requirement already satisfied: oauthlib>=3.0.0 in c:\\program files\\python311\\lib\\site-packages (from requests-oauthlib>=0.5.0->msrest>=0.6.21->azure-ai-formrecognizer>=3.2.0b2->farm-haystack) (3.2.2)\n",
      "Requirement already satisfied: MarkupSafe>=2.0 in c:\\users\\ashni\\appdata\\roaming\\python\\python311\\site-packages (from jinja2->torch!=1.12.0,>=1.9->transformers[torch]==4.29.1->farm-haystack) (2.1.3)\n",
      "Requirement already satisfied: mpmath>=0.19 in c:\\program files\\python311\\lib\\site-packages (from sympy->torch!=1.12.0,>=1.9->transformers[torch]==4.29.1->farm-haystack) (1.3.0)\n"
     ]
    }
   ],
   "source": [
    "!python -m pip install farm-haystack"
   ]
  },
  {
   "cell_type": "code",
   "execution_count": 17,
   "id": "c1287513",
   "metadata": {},
   "outputs": [],
   "source": [
    "from haystack.document_stores.elasticsearch import ElasticsearchDocumentStore"
   ]
  },
  {
   "cell_type": "code",
   "execution_count": 21,
   "id": "b693941c",
   "metadata": {},
   "outputs": [],
   "source": [
    "doc_store = ElasticsearchDocumentStore(\n",
    "    host='localhost',\n",
    "    username='', password='',\n",
    "    index='aurelius'\n",
    ")"
   ]
  },
  {
   "cell_type": "code",
   "execution_count": 22,
   "id": "8d4e29d5",
   "metadata": {},
   "outputs": [],
   "source": [
    "with open('meditations.txt', 'r') as f:\n",
    "    data = f.read()"
   ]
  },
  {
   "cell_type": "code",
   "execution_count": 23,
   "id": "27e81a1a",
   "metadata": {},
   "outputs": [
    {
     "data": {
      "text/plain": [
       "'From my grandfather Verus I learned good morals and the government of my temper.\\nFrom the reputation'"
      ]
     },
     "execution_count": 23,
     "metadata": {},
     "output_type": "execute_result"
    }
   ],
   "source": [
    "data[:100]"
   ]
  },
  {
   "cell_type": "code",
   "execution_count": 24,
   "id": "cc52c7cb",
   "metadata": {},
   "outputs": [],
   "source": [
    "data = data.split('\\n')"
   ]
  },
  {
   "cell_type": "code",
   "execution_count": 25,
   "id": "deaca732",
   "metadata": {},
   "outputs": [
    {
     "data": {
      "text/plain": [
       "508"
      ]
     },
     "execution_count": 25,
     "metadata": {},
     "output_type": "execute_result"
    }
   ],
   "source": [
    "len(data)"
   ]
  },
  {
   "cell_type": "code",
   "execution_count": 36,
   "id": "abc09025",
   "metadata": {},
   "outputs": [
    {
     "data": {
      "text/plain": [
       "{'content': '<paragraph>', 'meta': {'source': 'meditations'}}"
      ]
     },
     "execution_count": 36,
     "metadata": {},
     "output_type": "execute_result"
    }
   ],
   "source": [
    "{\n",
    "    'content': '<paragraph>',\n",
    "    'meta': {\n",
    "        'source': 'meditations'\n",
    "    }\n",
    "}"
   ]
  },
  {
   "cell_type": "code",
   "execution_count": 37,
   "id": "b9e929e6",
   "metadata": {},
   "outputs": [],
   "source": [
    "data_json = [\n",
    "    {\n",
    "        'content': paragraph,\n",
    "        'meta': {\n",
    "            'source': 'meditations'\n",
    "        }\n",
    "    } for paragraph in data\n",
    "]"
   ]
  },
  {
   "cell_type": "code",
   "execution_count": 38,
   "id": "ebc8fc97",
   "metadata": {},
   "outputs": [
    {
     "data": {
      "text/plain": [
       "[{'content': 'From my grandfather Verus I learned good morals and the government of my temper.',\n",
       "  'meta': {'source': 'meditations'}},\n",
       " {'content': 'From the reputation and remembrance of my father, modesty and a manly character.',\n",
       "  'meta': {'source': 'meditations'}},\n",
       " {'content': 'From my mother, piety and beneficence, and abstinence, not only from evil deeds, but even from evil thoughts; and further, simplicity in my way of living, far removed from the habits of the rich.',\n",
       "  'meta': {'source': 'meditations'}},\n",
       " {'content': 'From my great-grandfather, not to have frequented public schools, and to have had good teachers at home, and to know that on such things a man should spend liberally.',\n",
       "  'meta': {'source': 'meditations'}},\n",
       " {'content': \"From my governor, to be neither of the green nor of the blue party at the games in the Circus, nor a partizan either of the Parmularius or the Scutarius at the gladiators' fights; from him too I learned endurance of labour, and to want little, and to work with my own hands, and not to meddle with other people's affairs, and not to be ready to listen to slander.\",\n",
       "  'meta': {'source': 'meditations'}}]"
      ]
     },
     "execution_count": 38,
     "metadata": {},
     "output_type": "execute_result"
    }
   ],
   "source": [
    "data_json[:5]"
   ]
  },
  {
   "cell_type": "code",
   "execution_count": 39,
   "id": "d2cd8194",
   "metadata": {},
   "outputs": [
    {
     "data": {
      "text/plain": [
       "508"
      ]
     },
     "execution_count": 39,
     "metadata": {},
     "output_type": "execute_result"
    }
   ],
   "source": [
    "len(data_json)"
   ]
  },
  {
   "cell_type": "code",
   "execution_count": 40,
   "id": "f47fe285",
   "metadata": {},
   "outputs": [],
   "source": [
    "doc_store.write_documents(data_json)"
   ]
  },
  {
   "cell_type": "code",
   "execution_count": 41,
   "id": "928301e2",
   "metadata": {},
   "outputs": [
    {
     "data": {
      "text/plain": [
       "{'count': 508,\n",
       " '_shards': {'total': 1, 'successful': 1, 'skipped': 0, 'failed': 0}}"
      ]
     },
     "execution_count": 41,
     "metadata": {},
     "output_type": "execute_result"
    }
   ],
   "source": [
    "requests.get('http://localhost:9200/aurelius/_count').json()"
   ]
  },
  {
   "cell_type": "code",
   "execution_count": null,
   "id": "d74374ff",
   "metadata": {},
   "outputs": [],
   "source": []
  }
 ],
 "metadata": {
  "kernelspec": {
   "display_name": "Python 3 (ipykernel)",
   "language": "python",
   "name": "python3"
  },
  "language_info": {
   "codemirror_mode": {
    "name": "ipython",
    "version": 3
   },
   "file_extension": ".py",
   "mimetype": "text/x-python",
   "name": "python",
   "nbconvert_exporter": "python",
   "pygments_lexer": "ipython3",
   "version": "3.11.4"
  }
 },
 "nbformat": 4,
 "nbformat_minor": 5
}
