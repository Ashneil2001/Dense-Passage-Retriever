{
 "cells": [
  {
   "cell_type": "code",
   "execution_count": 1,
   "id": "ee0592f4",
   "metadata": {},
   "outputs": [],
   "source": [
    "from haystack.document_stores.elasticsearch import ElasticsearchDocumentStore"
   ]
  },
  {
   "cell_type": "code",
   "execution_count": 2,
   "id": "e801e3b5",
   "metadata": {},
   "outputs": [
    {
     "name": "stderr",
     "output_type": "stream",
     "text": [
      "c:\\Program Files\\Python311\\Lib\\site-packages\\elasticsearch\\connection\\base.py:200: ElasticsearchWarning: Elasticsearch built-in security features are not enabled. Without authentication, your cluster could be accessible to anyone. See https://www.elastic.co/guide/en/elasticsearch/reference/7.17/security-minimal-setup.html to enable security.\n",
      "  warnings.warn(message, category=ElasticsearchWarning)\n"
     ]
    }
   ],
   "source": [
    "doc_store = ElasticsearchDocumentStore(\n",
    "    host='localhost',\n",
    "    username='', password='',\n",
    "    index='aurelius'\n",
    ")"
   ]
  },
  {
   "cell_type": "code",
   "execution_count": 3,
   "id": "bc4213d8",
   "metadata": {},
   "outputs": [],
   "source": [
    "from haystack.nodes import DensePassageRetriever"
   ]
  },
  {
   "cell_type": "code",
   "execution_count": 4,
   "id": "8891f16f",
   "metadata": {},
   "outputs": [
    {
     "name": "stderr",
     "output_type": "stream",
     "text": [
      "c:\\Program Files\\Python311\\Lib\\site-packages\\torch\\_utils.py:776: UserWarning: TypedStorage is deprecated. It will be removed in the future and UntypedStorage will be the only storage class. This should only matter to you if you are using storages directly.  To access UntypedStorage directly, use tensor.untyped_storage() instead of tensor.storage()\n",
      "  return self.fget.__get__(instance, owner)()\n"
     ]
    }
   ],
   "source": [
    "retriever = DensePassageRetriever(\n",
    "    document_store=doc_store,\n",
    "    query_embedding_model='facebook/dpr-question_encoder-single-nq-base',\n",
    "    passage_embedding_model='facebook/dpr-ctx_encoder-single-nq-base',\n",
    "    use_gpu=True,\n",
    "    embed_title=True\n",
    ")"
   ]
  },
  {
   "cell_type": "code",
   "execution_count": 5,
   "id": "81e1fcc7",
   "metadata": {},
   "outputs": [
    {
     "data": {
      "application/vnd.jupyter.widget-view+json": {
       "model_id": "4bc4ae355795492785bb5356049ebfcb",
       "version_major": 2,
       "version_minor": 0
      },
      "text/plain": [
       "Updating embeddings:   0%|          | 0/508 [00:00<?, ? Docs/s]"
      ]
     },
     "metadata": {},
     "output_type": "display_data"
    },
    {
     "data": {
      "application/vnd.jupyter.widget-view+json": {
       "model_id": "c909ef5de2f14a028de77754e224cace",
       "version_major": 2,
       "version_minor": 0
      },
      "text/plain": [
       "Create embeddings:   0%|          | 0/512 [00:00<?, ? Docs/s]"
      ]
     },
     "metadata": {},
     "output_type": "display_data"
    }
   ],
   "source": [
    "doc_store.update_embeddings(retriever=retriever)"
   ]
  },
  {
   "cell_type": "code",
   "execution_count": 6,
   "id": "a0d8cac4",
   "metadata": {},
   "outputs": [
    {
     "data": {
      "text/plain": [
       "[<Document: {'content': 'From my great-grandfather, not to have frequented public schools, and to have had good teachers at home, and to know that on such things a man should spend liberally.', 'content_type': 'text', 'score': 0.6722208777772227, 'meta': {'source': 'meditations'}, 'id_hash_keys': ['content'], 'embedding': None, 'id': '366d76bbaee1f45066c8986efe265a0b'}>,\n",
       " <Document: {'content': 'Neither in writing nor in reading wilt thou be able to lay down rules for others before thou shalt have first learned to obey rules thyself. Much more is this so in life.', 'content_type': 'text', 'score': 0.666793059000868, 'meta': {'source': 'meditations'}, 'id_hash_keys': ['content'], 'embedding': None, 'id': '7584cc5a8bea37080006ea198298381c'}>,\n",
       " <Document: {'content': 'Always remember the saying of Heraclitus, that the death of earth is to become water, and the death of water is to become air, and the death of air is to become fire, and reversely. And think too of him who forgets whither the way leads, and that men quarrel with that with which they are most constantly in communion, the reason which governs the universe; and the things which daily meet with seem to them strange: and consider that we ought not to act and speak as if we were asleep, for even in sleep we seem to act and speak; and that we ought not, like children who learn from their parents, simply to act and speak as we have been taught.', 'content_type': 'text', 'score': 0.6607311132424901, 'meta': {'source': 'meditations'}, 'id_hash_keys': ['content'], 'embedding': None, 'id': 'ec2d3c3368b17417ea46731e46c48761'}>,\n",
       " <Document: {'content': \"Remember these nine rules, as if thou hadst received them as a gift from the Muses, and begin at last to be a man while thou livest. But thou must equally avoid flattering men and being veied at them, for both are unsocial and lead to harm. And let this truth be present to thee in the excitement of anger, that to be moved by passion is not manly, but that mildness and gentleness, as they are more agreeable to human nature, so also are they more manly; and he who possesses these qualities possesses strength, nerves and courage, and not the man who is subject to fits of passion and discontent. For in the same degree in which a man's mind is nearer to freedom from all passion, in the same degree also is it nearer to strength: and as the sense of pain is a characteristic of weakness, so also is anger. For he who yields to pain and he who yields to anger, both are wounded and both submit.\", 'content_type': 'text', 'score': 0.657866272349119, 'meta': {'source': 'meditations'}, 'id_hash_keys': ['content'], 'embedding': None, 'id': '67bde761a8d00e5ba70cce34c5b75c06'}>,\n",
       " <Document: {'content': \"Fifth, consider that thou dost not even understand whether men are doing wrong or not, for many things are done with a certain reference to circumstances. And in short, a man must learn a great deal to enable him to pass a correct judgement on another man's acts.\", 'content_type': 'text', 'score': 0.6569879275482314, 'meta': {'source': 'meditations'}, 'id_hash_keys': ['content'], 'embedding': None, 'id': 'bdbd228d4701d65f69c333227633a390'}>,\n",
       " <Document: {'content': 'From Alexander the grammarian, to refrain from fault-finding, and not in a reproachful way to chide those who uttered any barbarous or solecistic or strange-sounding expression; but dexterously to introduce the very expression which ought to have been used, and in the way of answer or giving confirmation, or joining in an inquiry about the thing itself, not about the word, or by some other fit suggestion.', 'content_type': 'text', 'score': 0.6543469072368608, 'meta': {'source': 'meditations'}, 'id_hash_keys': ['content'], 'embedding': None, 'id': '32202cedc2d76a02ad0c48a9e720f88c'}>,\n",
       " <Document: {'content': 'From Apollonius I learned freedom of will and undeviating steadiness of purpose; and to look to nothing else, not even for a moment, except to reason; and to be always the same, in sharp pains, on the occasion of the loss of a child, and in long illness; and to see clearly in a living example that the same man can be both most resolute and yielding, and not peevish in giving his instruction; and to have had before my eyes a man who clearly considered his experience and his skill in expounding philosophical principles as the smallest of his merits; and from him I learned how to receive from friends what are esteemed favours, without being either humbled by them or letting them pass unnoticed.', 'content_type': 'text', 'score': 0.6541944480626117, 'meta': {'source': 'meditations'}, 'id_hash_keys': ['content'], 'embedding': None, 'id': '5596309abfe1aa5eb8badb4ba19445a8'}>,\n",
       " <Document: {'content': 'As physicians have always their instruments and knives ready for cases which suddenly require their skill, so do thou have principles ready for the understanding of things divine and human, and for doing everything, even the smallest, with a recollection of the bond which unites the divine and human to one another. For neither wilt thou do anything well which pertains to man without at the same time having a reference to things divine; nor the contrary.', 'content_type': 'text', 'score': 0.6529838327075806, 'meta': {'source': 'meditations'}, 'id_hash_keys': ['content'], 'embedding': None, 'id': '42034198ccaa7598d3d71ef5b2c9bad8'}>,\n",
       " <Document: {'content': 'If any man should propose to thee the question, how the name Antoninus is written, wouldst thou with a straining of the voice utter each letter? What then if they grow angry, wilt thou be angry too? Wilt thou not go on with composure and number every letter? just so then in this life also remember that every duty is made up of certain parts. These it is thy duty to observe and without being disturbed or showing anger towards those who are angry with thee to go on thy way and finish that which is set before thee.', 'content_type': 'text', 'score': 0.6520349225269001, 'meta': {'source': 'meditations'}, 'id_hash_keys': ['content'], 'embedding': None, 'id': 'badee3fce78be9d5040f9bf137501d5d'}>,\n",
       " <Document: {'content': 'From Diognetus, not to busy myself about trifling things, and not to give credit to what was said by miracle-workers and jugglers about incantations and the driving away of daemons and such things; and not to breed quails for fighting, nor to give myself up passionately to such things; and to endure freedom of speech; and to have become intimate with philosophy; and to have been a hearer, first of Bacchius, then of Tandasis and Marcianus; and to have written dialogues in my youth; and to have desired a plank bed and skin, and whatever else of the kind belongs to the Grecian discipline.', 'content_type': 'text', 'score': 0.6519076289736804, 'meta': {'source': 'meditations'}, 'id_hash_keys': ['content'], 'embedding': None, 'id': '939adfbd68d547d4245d1ad958331275'}>]"
      ]
     },
     "execution_count": 6,
     "metadata": {},
     "output_type": "execute_result"
    }
   ],
   "source": [
    "retriever.retrieve('What did your grandfather teach you?')"
   ]
  },
  {
   "cell_type": "code",
   "execution_count": 7,
   "id": "7d4c292d",
   "metadata": {},
   "outputs": [
    {
     "data": {
      "text/plain": [
       "[<Document: {'content': 'The universe is either a confusion, and a mutual involution of things, and a dispersion; or it is unity and order and providence. If then it is the former, why do I desire to tarry in a fortuitous combination of things and such a disorder? And why do I care about anything else than how I shall at last become earth? And why am I disturbed, for the dispersion of my elements will happen whatever I do. But if the other supposition is true, I venerate, and I am firm, and I trust in him who governs.', 'content_type': 'text', 'score': 0.6738495305638309, 'meta': {'source': 'meditations'}, 'id_hash_keys': ['content'], 'embedding': None, 'id': '55a156ecaa10b9656df5ac1c49f41597'}>,\n",
       " <Document: {'content': 'All things are implicated with one another, and the bond is holy; and there is hardly anything unconnected with any other thing. For things have been co-ordinated, and they combine to form the same universe (order). For there is one universe made up of all things, and one God who pervades all things, and one substance, and one law, one common reason in all intelligent animals, and one truth; if indeed there is also one perfection for all animals which are of the same stock and participate in the same reason.', 'content_type': 'text', 'score': 0.6659371171216953, 'meta': {'source': 'meditations'}, 'id_hash_keys': ['content'], 'embedding': None, 'id': 'c54583849a14d691eec551b35e49ad1f'}>,\n",
       " <Document: {'content': 'The periodic movements of the universe are the same, up and down from age to age. And either the universal intelligence puts itself in motion for every separate effect, and if this is so, be thou content with that which is the result of its activity; or it puts itself in motion once, and everything else comes by way of sequence in a manner; or indivisible elements are the origin of all things.- In a word, if there is a god, all is well; and if chance rules, do not thou also be governed by it.', 'content_type': 'text', 'score': 0.664068268736992, 'meta': {'source': 'meditations'}, 'id_hash_keys': ['content'], 'embedding': None, 'id': '1857d90f78ac64e99ba65d8ab2c8f816'}>,\n",
       " <Document: {'content': 'That which has grown from the earth to the earth,  But that which has sprung from heavenly seed,  Back to the heavenly realms returns. This is either a dissolution of the mutual involution of the atoms, or a similar dispersion of the unsentient elements.', 'content_type': 'text', 'score': 0.6629421155583928, 'meta': {'source': 'meditations'}, 'id_hash_keys': ['content'], 'embedding': None, 'id': '5411c82b432620a6207ee0c1f0574b1b'}>,\n",
       " <Document: {'content': 'Consider how many things in the same indivisible time take place in each of us, things which concern the body and things which concern the soul: and so thou wilt not wonder if many more things, or rather all things which come into existence in that which is the one and all, which we call Cosmos, exist in it at the same time.', 'content_type': 'text', 'score': 0.6628444610145172, 'meta': {'source': 'meditations'}, 'id_hash_keys': ['content'], 'embedding': None, 'id': 'd2addbf8a401e916ae9ffc016b5e12a7'}>,\n",
       " <Document: {'content': 'This thing, what is it in itself, in its own constitution? What is its substance and material? And what its causal nature (or form)? And what is it doing in the world? And how long does it subsist?', 'content_type': 'text', 'score': 0.6626638640630329, 'meta': {'source': 'meditations'}, 'id_hash_keys': ['content'], 'embedding': None, 'id': '48dfd502bc5c26ac0f73717c436f4395'}>,\n",
       " <Document: {'content': 'Think of the universal substance, of which thou hast a very small portion; and of universal time, of which a short and indivisible interval has been assigned to thee; and of that which is fixed by destiny, and how small a part of it thou art.', 'content_type': 'text', 'score': 0.6611936372474684, 'meta': {'source': 'meditations'}, 'id_hash_keys': ['content'], 'embedding': None, 'id': '267ec395586af1a5c1807f071669c5db'}>,\n",
       " <Document: {'content': 'Either it is a well-arranged universe or a chaos huddled together, but still a universe. But can a certain order subsist in thee, and disorder in the All? And this too when all things are so separated and diffused and sympathetic.', 'content_type': 'text', 'score': 0.6611145548846034, 'meta': {'source': 'meditations'}, 'id_hash_keys': ['content'], 'embedding': None, 'id': '5713bc9e6d666128d475dc121a4747db'}>,\n",
       " <Document: {'content': 'Frequently consider the connexion of all things in the universe and their relation to one another. For in a manner all things are implicated with one another, and all in this way are friendly to one another; for one thing comes in order after another, and this is by virtue of the active movement and mutual conspiration and the unity of the substance.', 'content_type': 'text', 'score': 0.6599095121765601, 'meta': {'source': 'meditations'}, 'id_hash_keys': ['content'], 'embedding': None, 'id': 'f83f101f53340d64ef400ef669cc07c0'}>,\n",
       " <Document: {'content': 'The substance of the universe is obedient and compliant; and the reason which governs it has in itself no cause for doing evil, for it has no malice, nor does it do evil to anything, nor is anything harmed by it. But all things are made and perfected according to this reason.', 'content_type': 'text', 'score': 0.6593846012878265, 'meta': {'source': 'meditations'}, 'id_hash_keys': ['content'], 'embedding': None, 'id': 'c1da97b4d8e44d20780689670e605962'}>]"
      ]
     },
     "execution_count": 7,
     "metadata": {},
     "output_type": "execute_result"
    }
   ],
   "source": [
    "retriever.retrieve('What is the universe?')"
   ]
  },
  {
   "cell_type": "code",
   "execution_count": 8,
   "id": "10c81fa1",
   "metadata": {},
   "outputs": [
    {
     "data": {
      "text/plain": [
       "[<Document: {'content': 'From Rusticus I received the impression that my character required improvement and discipline; and from him I learned not to be led astray to sophistic emulation, nor to writing on speculative matters, nor to delivering little hortatory orations, nor to showing myself off as a man who practises much discipline, or does benevolent acts in order to make a display; and to abstain from rhetoric, and poetry, and fine writing; and not to walk about in the house in my outdoor dress, nor to do other things of the kind; and to write my letters with simplicity, like the letter which Rusticus wrote from Sinuessa to my mother; and with respect to those who have offended me by words, or done me wrong, to be easily disposed to be pacified and reconciled, as soon as they have shown a readiness to be reconciled; and to read carefully, and not to be satisfied with a superficial understanding of a book; nor hastily to give my assent to those who talk overmuch; and I am indebted to him for being acquainted with the discourses of Epictetus, which he communicated to me out of his own collection.', 'content_type': 'text', 'score': 0.6740826702358396, 'meta': {'source': 'meditations'}, 'id_hash_keys': ['content'], 'embedding': None, 'id': '89a986e26cebd68adc4720d337f6ac2e'}>,\n",
       " <Document: {'content': 'Constantly bring to thy recollection those who have complained greatly about anything, those who have been most conspicuous by the greatest fame or misfortunes or enmities or fortunes of any kind: then think where are they all now? Smoke and ash and a tale, or not even a tale. And let there be present to thy mind also everything of this sort, how Fabius Catullinus lived in the country, and Lucius Lupus in his gardens, and Stertinius at Baiae, and Tiberius at Capreae and Velius Rufus (or Rufus at Velia); and in fine think of the eager pursuit of anything conjoined with pride; and how worthless everything is after which men violently strain; and how much more philosophical it is for a man in the opportunities presented to him to show', 'content_type': 'text', 'score': 0.6634384412602247, 'meta': {'source': 'meditations'}, 'id_hash_keys': ['content'], 'embedding': None, 'id': '3c7247a511b0df0386d2f5c0b23a469e'}>,\n",
       " <Document: {'content': 'From Fronto I learned to observe what envy, and duplicity, and hypocrisy are in a tyrant, and that generally those among us who are called Patricians are rather deficient in paternal affection.', 'content_type': 'text', 'score': 0.6598585649562455, 'meta': {'source': 'meditations'}, 'id_hash_keys': ['content'], 'embedding': None, 'id': '6f3917afcfb3910cf0dade6f48fb46f1'}>,\n",
       " <Document: {'content': 'From Maximus I learned self-government, and not to be led aside by anything; and cheerfulness in all circumstances, as well as in illness; and a just admixture in the moral character of sweetness and dignity, and to do what was set before me without complaining. I observed that everybody believed that he thought as he spoke, and that in all that he did he never had any bad intention; and he never showed amazement and surprise, and was never in a hurry, and never put off doing a thing, nor was perplexed nor dejected, nor did he ever laugh to disguise his vexation, nor, on the other hand, was he ever passionate or suspicious. He was accustomed to do acts of beneficence, and was ready to forgive, and was free from all falsehood; and he presented the appearance of a man who could not be diverted from right rather than of a man who had been improved. I observed, too, that no man could ever think that he was despised by Maximus, or ever venture to think himself a better man. He had also the art of being humorous in an agreeable way.', 'content_type': 'text', 'score': 0.6594068359953037, 'meta': {'source': 'meditations'}, 'id_hash_keys': ['content'], 'embedding': None, 'id': '798a2fd2d075fe24606a777f348aca3d'}>,\n",
       " <Document: {'content': \"How unsound and insincere is he who says, I have determined to deal with thee in a fair way.- What art thou doing, man? There is no occasion to give this notice. It will soon show itself by acts. The voice ought to be plainly written on the forehead. Such as a man's character is, he immediately shows it in his eyes, just as he who is beloved forthwith reads everything in the eyes of lovers. The man who is honest and good ought to be exactly like a man who smells strong, so that the bystander as soon as he comes near him must smell whether he choose or not. But the affectation of simplicity is like a crooked stick. Nothing is more disgraceful than a wolfish friendship (false friendship). Avoid this most of all. The good and simple and benevolent show all these things in the eyes, and there is no mistaking.\", 'content_type': 'text', 'score': 0.6589572892412536, 'meta': {'source': 'meditations'}, 'id_hash_keys': ['content'], 'embedding': None, 'id': '650ff38f71d7cdda996c8a8686f3d8be'}>,\n",
       " <Document: {'content': 'From Diognetus, not to busy myself about trifling things, and not to give credit to what was said by miracle-workers and jugglers about incantations and the driving away of daemons and such things; and not to breed quails for fighting, nor to give myself up passionately to such things; and to endure freedom of speech; and to have become intimate with philosophy; and to have been a hearer, first of Bacchius, then of Tandasis and Marcianus; and to have written dialogues in my youth; and to have desired a plank bed and skin, and whatever else of the kind belongs to the Grecian discipline.', 'content_type': 'text', 'score': 0.6588676152554657, 'meta': {'source': 'meditations'}, 'id_hash_keys': ['content'], 'embedding': None, 'id': '939adfbd68d547d4245d1ad958331275'}>,\n",
       " <Document: {'content': \"This is the chief thing: Be not perturbed, for all things are according to the nature of the universal; and in a little time thou wilt be nobody and nowhere, like Hadrian and Augustus. In the next place having fixed thy eyes steadily on thy business look at it, and at the same time remembering that it is thy duty to be a good man, and what man's nature demands, do that without turning aside; and speak as it seems to thee most just, only let it be with a good disposition and with modesty and without hypocrisy.\", 'content_type': 'text', 'score': 0.6568227234837284, 'meta': {'source': 'meditations'}, 'id_hash_keys': ['content'], 'embedding': None, 'id': '319ebf77d3631b18286037df3151567d'}>,\n",
       " <Document: {'content': 'From Sextus, a benevolent disposition, and the example of a family governed in a fatherly manner, and the idea of living conformably to nature; and gravity without affectation, and to look carefully after the interests of friends, and to tolerate ignorant persons, and those who form opinions without consideration: he had the power of readily accommodating himself to all, so that intercourse with him was more agreeable than any flattery; and at the same time he was most highly venerated by those who associated with him: and he had the faculty both of discovering and ordering, in an intelligent and methodical way, the principles necessary for life; and he never showed anger or any other passion, but was entirely free from passion, and also most affectionate; and he could express approbation without noisy display, and he possessed much knowledge without ostentation.', 'content_type': 'text', 'score': 0.6556751669428037, 'meta': {'source': 'meditations'}, 'id_hash_keys': ['content'], 'embedding': None, 'id': 'b6f4653bb01e18e82c0bcef1fc426bc8'}>,\n",
       " <Document: {'content': 'From Alexander the grammarian, to refrain from fault-finding, and not in a reproachful way to chide those who uttered any barbarous or solecistic or strange-sounding expression; but dexterously to introduce the very expression which ought to have been used, and in the way of answer or giving confirmation, or joining in an inquiry about the thing itself, not about the word, or by some other fit suggestion.', 'content_type': 'text', 'score': 0.6556564281855713, 'meta': {'source': 'meditations'}, 'id_hash_keys': ['content'], 'embedding': None, 'id': '32202cedc2d76a02ad0c48a9e720f88c'}>,\n",
       " <Document: {'content': 'How strangely men act. They will not praise those who are living at the same time and living with themselves; but to be themselves praised by posterity, by those whom they have never seen or ever will see, this they set much value on. But this is very much the same as if thou shouldst be grieved because those who have lived before thee did not praise thee.', 'content_type': 'text', 'score': 0.6547369586701547, 'meta': {'source': 'meditations'}, 'id_hash_keys': ['content'], 'embedding': None, 'id': '3ea45896a0ea4ae48663003a48029424'}>]"
      ]
     },
     "execution_count": 8,
     "metadata": {},
     "output_type": "execute_result"
    }
   ],
   "source": [
    "retriever.retrieve('What impression you received from Rusticus')"
   ]
  }
 ],
 "metadata": {
  "kernelspec": {
   "display_name": "Python 3 (ipykernel)",
   "language": "python",
   "name": "python3"
  },
  "language_info": {
   "codemirror_mode": {
    "name": "ipython",
    "version": 3
   },
   "file_extension": ".py",
   "mimetype": "text/x-python",
   "name": "python",
   "nbconvert_exporter": "python",
   "pygments_lexer": "ipython3",
   "version": "3.11.4"
  }
 },
 "nbformat": 4,
 "nbformat_minor": 5
}
